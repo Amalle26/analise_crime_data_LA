{
 "cells": [
  {
   "cell_type": "code",
   "execution_count": 3,
   "metadata": {},
   "outputs": [],
   "source": [
    "import pandas as pd"
   ]
  },
  {
   "cell_type": "code",
   "execution_count": 4,
   "metadata": {},
   "outputs": [],
   "source": [
    "df = pd.read_csv('Crime_Data_from_2020_to_Present.csv')"
   ]
  },
  {
   "cell_type": "code",
   "execution_count": 5,
   "metadata": {},
   "outputs": [
    {
     "data": {
      "text/html": [
       "<div>\n",
       "<style scoped>\n",
       "    .dataframe tbody tr th:only-of-type {\n",
       "        vertical-align: middle;\n",
       "    }\n",
       "\n",
       "    .dataframe tbody tr th {\n",
       "        vertical-align: top;\n",
       "    }\n",
       "\n",
       "    .dataframe thead th {\n",
       "        text-align: right;\n",
       "    }\n",
       "</style>\n",
       "<table border=\"1\" class=\"dataframe\">\n",
       "  <thead>\n",
       "    <tr style=\"text-align: right;\">\n",
       "      <th></th>\n",
       "      <th>DR_NO</th>\n",
       "      <th>Date Rptd</th>\n",
       "      <th>DATE OCC</th>\n",
       "      <th>TIME OCC</th>\n",
       "      <th>AREA</th>\n",
       "      <th>AREA NAME</th>\n",
       "      <th>Rpt Dist No</th>\n",
       "      <th>Part 1-2</th>\n",
       "      <th>Crm Cd</th>\n",
       "      <th>Crm Cd Desc</th>\n",
       "      <th>...</th>\n",
       "      <th>Status</th>\n",
       "      <th>Status Desc</th>\n",
       "      <th>Crm Cd 1</th>\n",
       "      <th>Crm Cd 2</th>\n",
       "      <th>Crm Cd 3</th>\n",
       "      <th>Crm Cd 4</th>\n",
       "      <th>LOCATION</th>\n",
       "      <th>Cross Street</th>\n",
       "      <th>LAT</th>\n",
       "      <th>LON</th>\n",
       "    </tr>\n",
       "  </thead>\n",
       "  <tbody>\n",
       "    <tr>\n",
       "      <th>0</th>\n",
       "      <td>190326475</td>\n",
       "      <td>03/01/2020 12:00:00 AM</td>\n",
       "      <td>03/01/2020 12:00:00 AM</td>\n",
       "      <td>2130</td>\n",
       "      <td>7</td>\n",
       "      <td>Wilshire</td>\n",
       "      <td>784</td>\n",
       "      <td>1</td>\n",
       "      <td>510</td>\n",
       "      <td>VEHICLE - STOLEN</td>\n",
       "      <td>...</td>\n",
       "      <td>AA</td>\n",
       "      <td>Adult Arrest</td>\n",
       "      <td>510.0</td>\n",
       "      <td>998.0</td>\n",
       "      <td>NaN</td>\n",
       "      <td>NaN</td>\n",
       "      <td>1900 S  LONGWOOD                     AV</td>\n",
       "      <td>NaN</td>\n",
       "      <td>34.0375</td>\n",
       "      <td>-118.3506</td>\n",
       "    </tr>\n",
       "    <tr>\n",
       "      <th>1</th>\n",
       "      <td>200106753</td>\n",
       "      <td>02/09/2020 12:00:00 AM</td>\n",
       "      <td>02/08/2020 12:00:00 AM</td>\n",
       "      <td>1800</td>\n",
       "      <td>1</td>\n",
       "      <td>Central</td>\n",
       "      <td>182</td>\n",
       "      <td>1</td>\n",
       "      <td>330</td>\n",
       "      <td>BURGLARY FROM VEHICLE</td>\n",
       "      <td>...</td>\n",
       "      <td>IC</td>\n",
       "      <td>Invest Cont</td>\n",
       "      <td>330.0</td>\n",
       "      <td>998.0</td>\n",
       "      <td>NaN</td>\n",
       "      <td>NaN</td>\n",
       "      <td>1000 S  FLOWER                       ST</td>\n",
       "      <td>NaN</td>\n",
       "      <td>34.0444</td>\n",
       "      <td>-118.2628</td>\n",
       "    </tr>\n",
       "    <tr>\n",
       "      <th>2</th>\n",
       "      <td>200320258</td>\n",
       "      <td>11/11/2020 12:00:00 AM</td>\n",
       "      <td>11/04/2020 12:00:00 AM</td>\n",
       "      <td>1700</td>\n",
       "      <td>3</td>\n",
       "      <td>Southwest</td>\n",
       "      <td>356</td>\n",
       "      <td>1</td>\n",
       "      <td>480</td>\n",
       "      <td>BIKE - STOLEN</td>\n",
       "      <td>...</td>\n",
       "      <td>IC</td>\n",
       "      <td>Invest Cont</td>\n",
       "      <td>480.0</td>\n",
       "      <td>NaN</td>\n",
       "      <td>NaN</td>\n",
       "      <td>NaN</td>\n",
       "      <td>1400 W  37TH                         ST</td>\n",
       "      <td>NaN</td>\n",
       "      <td>34.0210</td>\n",
       "      <td>-118.3002</td>\n",
       "    </tr>\n",
       "    <tr>\n",
       "      <th>3</th>\n",
       "      <td>200907217</td>\n",
       "      <td>05/10/2023 12:00:00 AM</td>\n",
       "      <td>03/10/2020 12:00:00 AM</td>\n",
       "      <td>2037</td>\n",
       "      <td>9</td>\n",
       "      <td>Van Nuys</td>\n",
       "      <td>964</td>\n",
       "      <td>1</td>\n",
       "      <td>343</td>\n",
       "      <td>SHOPLIFTING-GRAND THEFT ($950.01 &amp; OVER)</td>\n",
       "      <td>...</td>\n",
       "      <td>IC</td>\n",
       "      <td>Invest Cont</td>\n",
       "      <td>343.0</td>\n",
       "      <td>NaN</td>\n",
       "      <td>NaN</td>\n",
       "      <td>NaN</td>\n",
       "      <td>14000    RIVERSIDE                    DR</td>\n",
       "      <td>NaN</td>\n",
       "      <td>34.1576</td>\n",
       "      <td>-118.4387</td>\n",
       "    </tr>\n",
       "    <tr>\n",
       "      <th>4</th>\n",
       "      <td>200412582</td>\n",
       "      <td>09/09/2020 12:00:00 AM</td>\n",
       "      <td>09/09/2020 12:00:00 AM</td>\n",
       "      <td>630</td>\n",
       "      <td>4</td>\n",
       "      <td>Hollenbeck</td>\n",
       "      <td>413</td>\n",
       "      <td>1</td>\n",
       "      <td>510</td>\n",
       "      <td>VEHICLE - STOLEN</td>\n",
       "      <td>...</td>\n",
       "      <td>IC</td>\n",
       "      <td>Invest Cont</td>\n",
       "      <td>510.0</td>\n",
       "      <td>NaN</td>\n",
       "      <td>NaN</td>\n",
       "      <td>NaN</td>\n",
       "      <td>200 E  AVENUE 28</td>\n",
       "      <td>NaN</td>\n",
       "      <td>34.0820</td>\n",
       "      <td>-118.2130</td>\n",
       "    </tr>\n",
       "  </tbody>\n",
       "</table>\n",
       "<p>5 rows × 28 columns</p>\n",
       "</div>"
      ],
      "text/plain": [
       "       DR_NO               Date Rptd                DATE OCC  TIME OCC  AREA  \\\n",
       "0  190326475  03/01/2020 12:00:00 AM  03/01/2020 12:00:00 AM      2130     7   \n",
       "1  200106753  02/09/2020 12:00:00 AM  02/08/2020 12:00:00 AM      1800     1   \n",
       "2  200320258  11/11/2020 12:00:00 AM  11/04/2020 12:00:00 AM      1700     3   \n",
       "3  200907217  05/10/2023 12:00:00 AM  03/10/2020 12:00:00 AM      2037     9   \n",
       "4  200412582  09/09/2020 12:00:00 AM  09/09/2020 12:00:00 AM       630     4   \n",
       "\n",
       "    AREA NAME  Rpt Dist No  Part 1-2  Crm Cd  \\\n",
       "0    Wilshire          784         1     510   \n",
       "1     Central          182         1     330   \n",
       "2   Southwest          356         1     480   \n",
       "3    Van Nuys          964         1     343   \n",
       "4  Hollenbeck          413         1     510   \n",
       "\n",
       "                                Crm Cd Desc  ... Status   Status Desc  \\\n",
       "0                          VEHICLE - STOLEN  ...     AA  Adult Arrest   \n",
       "1                     BURGLARY FROM VEHICLE  ...     IC   Invest Cont   \n",
       "2                             BIKE - STOLEN  ...     IC   Invest Cont   \n",
       "3  SHOPLIFTING-GRAND THEFT ($950.01 & OVER)  ...     IC   Invest Cont   \n",
       "4                          VEHICLE - STOLEN  ...     IC   Invest Cont   \n",
       "\n",
       "  Crm Cd 1 Crm Cd 2  Crm Cd 3 Crm Cd 4  \\\n",
       "0    510.0    998.0       NaN      NaN   \n",
       "1    330.0    998.0       NaN      NaN   \n",
       "2    480.0      NaN       NaN      NaN   \n",
       "3    343.0      NaN       NaN      NaN   \n",
       "4    510.0      NaN       NaN      NaN   \n",
       "\n",
       "                                   LOCATION Cross Street      LAT       LON  \n",
       "0   1900 S  LONGWOOD                     AV          NaN  34.0375 -118.3506  \n",
       "1   1000 S  FLOWER                       ST          NaN  34.0444 -118.2628  \n",
       "2   1400 W  37TH                         ST          NaN  34.0210 -118.3002  \n",
       "3  14000    RIVERSIDE                    DR          NaN  34.1576 -118.4387  \n",
       "4                          200 E  AVENUE 28          NaN  34.0820 -118.2130  \n",
       "\n",
       "[5 rows x 28 columns]"
      ]
     },
     "execution_count": 5,
     "metadata": {},
     "output_type": "execute_result"
    }
   ],
   "source": [
    "df.head()"
   ]
  },
  {
   "cell_type": "code",
   "execution_count": 6,
   "metadata": {},
   "outputs": [
    {
     "data": {
      "text/plain": [
       "(1004681, 28)"
      ]
     },
     "execution_count": 6,
     "metadata": {},
     "output_type": "execute_result"
    }
   ],
   "source": [
    "df.shape"
   ]
  },
  {
   "cell_type": "code",
   "execution_count": 7,
   "metadata": {},
   "outputs": [
    {
     "name": "stdout",
     "output_type": "stream",
     "text": [
      "<class 'pandas.core.frame.DataFrame'>\n",
      "RangeIndex: 1004681 entries, 0 to 1004680\n",
      "Data columns (total 28 columns):\n",
      " #   Column          Non-Null Count    Dtype  \n",
      "---  ------          --------------    -----  \n",
      " 0   DR_NO           1004681 non-null  int64  \n",
      " 1   Date Rptd       1004681 non-null  object \n",
      " 2   DATE OCC        1004681 non-null  object \n",
      " 3   TIME OCC        1004681 non-null  int64  \n",
      " 4   AREA            1004681 non-null  int64  \n",
      " 5   AREA NAME       1004681 non-null  object \n",
      " 6   Rpt Dist No     1004681 non-null  int64  \n",
      " 7   Part 1-2        1004681 non-null  int64  \n",
      " 8   Crm Cd          1004681 non-null  int64  \n",
      " 9   Crm Cd Desc     1004681 non-null  object \n",
      " 10  Mocodes         853090 non-null   object \n",
      " 11  Vict Age        1004681 non-null  int64  \n",
      " 12  Vict Sex        860075 non-null   object \n",
      " 13  Vict Descent    860063 non-null   object \n",
      " 14  Premis Cd       1004665 non-null  float64\n",
      " 15  Premis Desc     1004093 non-null  object \n",
      " 16  Weapon Used Cd  327169 non-null   float64\n",
      " 17  Weapon Desc     327169 non-null   object \n",
      " 18  Status          1004680 non-null  object \n",
      " 19  Status Desc     1004681 non-null  object \n",
      " 20  Crm Cd 1        1004670 non-null  float64\n",
      " 21  Crm Cd 2        69124 non-null    float64\n",
      " 22  Crm Cd 3        2315 non-null     float64\n",
      " 23  Crm Cd 4        64 non-null       float64\n",
      " 24  LOCATION        1004681 non-null  object \n",
      " 25  Cross Street    154213 non-null   object \n",
      " 26  LAT             1004681 non-null  float64\n",
      " 27  LON             1004681 non-null  float64\n",
      "dtypes: float64(8), int64(7), object(13)\n",
      "memory usage: 214.6+ MB\n"
     ]
    }
   ],
   "source": [
    "df.info()"
   ]
  },
  {
   "cell_type": "code",
   "execution_count": 10,
   "metadata": {},
   "outputs": [],
   "source": [
    "nan_por_coluna = df.isna().sum()"
   ]
  },
  {
   "cell_type": "code",
   "execution_count": 11,
   "metadata": {},
   "outputs": [
    {
     "data": {
      "text/plain": [
       "DR_NO                   0\n",
       "Date Rptd               0\n",
       "DATE OCC                0\n",
       "TIME OCC                0\n",
       "AREA                    0\n",
       "AREA NAME               0\n",
       "Rpt Dist No             0\n",
       "Part 1-2                0\n",
       "Crm Cd                  0\n",
       "Crm Cd Desc             0\n",
       "Mocodes            151591\n",
       "Vict Age                0\n",
       "Vict Sex           144606\n",
       "Vict Descent       144618\n",
       "Premis Cd              16\n",
       "Premis Desc           588\n",
       "Weapon Used Cd     677512\n",
       "Weapon Desc        677512\n",
       "Status                  1\n",
       "Status Desc             0\n",
       "Crm Cd 1               11\n",
       "Crm Cd 2           935557\n",
       "Crm Cd 3          1002366\n",
       "Crm Cd 4          1004617\n",
       "LOCATION                0\n",
       "Cross Street       850468\n",
       "LAT                     0\n",
       "LON                     0\n",
       "dtype: int64"
      ]
     },
     "execution_count": 11,
     "metadata": {},
     "output_type": "execute_result"
    }
   ],
   "source": [
    "nan_por_coluna"
   ]
  },
  {
   "cell_type": "code",
   "execution_count": 8,
   "metadata": {},
   "outputs": [
    {
     "data": {
      "text/plain": [
       "AREA NAME\n",
       "Central        69660\n",
       "77th Street    61744\n",
       "Pacific        59431\n",
       "Southwest      57420\n",
       "Hollywood      52431\n",
       "N Hollywood    51097\n",
       "Olympic        50058\n",
       "Southeast      49925\n",
       "Newton         49172\n",
       "Wilshire       48230\n",
       "Rampart        46823\n",
       "West LA        45721\n",
       "Northeast      42943\n",
       "Van Nuys       42872\n",
       "West Valley    42133\n",
       "Devonshire     41740\n",
       "Harbor         41378\n",
       "Topanga        41363\n",
       "Mission        40339\n",
       "Hollenbeck     37074\n",
       "Foothill       33127\n",
       "Name: count, dtype: int64"
      ]
     },
     "execution_count": 8,
     "metadata": {},
     "output_type": "execute_result"
    }
   ],
   "source": [
    "df['AREA NAME'].value_counts()"
   ]
  },
  {
   "cell_type": "code",
   "execution_count": 9,
   "metadata": {},
   "outputs": [
    {
     "data": {
      "text/plain": [
       "['DR_NO',\n",
       " 'Date Rptd',\n",
       " 'DATE OCC',\n",
       " 'TIME OCC',\n",
       " 'AREA',\n",
       " 'AREA NAME',\n",
       " 'Rpt Dist No',\n",
       " 'Part 1-2',\n",
       " 'Crm Cd',\n",
       " 'Crm Cd Desc',\n",
       " 'Mocodes',\n",
       " 'Vict Age',\n",
       " 'Vict Sex',\n",
       " 'Vict Descent',\n",
       " 'Premis Cd',\n",
       " 'Premis Desc',\n",
       " 'Weapon Used Cd',\n",
       " 'Weapon Desc',\n",
       " 'Status',\n",
       " 'Status Desc',\n",
       " 'Crm Cd 1',\n",
       " 'Crm Cd 2',\n",
       " 'Crm Cd 3',\n",
       " 'Crm Cd 4',\n",
       " 'LOCATION',\n",
       " 'Cross Street',\n",
       " 'LAT',\n",
       " 'LON']"
      ]
     },
     "execution_count": 9,
     "metadata": {},
     "output_type": "execute_result"
    }
   ],
   "source": [
    "list(df.columns)"
   ]
  }
 ],
 "metadata": {
  "kernelspec": {
   "display_name": "venv",
   "language": "python",
   "name": "venv"
  },
  "language_info": {
   "codemirror_mode": {
    "name": "ipython",
    "version": 3
   },
   "file_extension": ".py",
   "mimetype": "text/x-python",
   "name": "python",
   "nbconvert_exporter": "python",
   "pygments_lexer": "ipython3",
   "version": "3.12.0"
  }
 },
 "nbformat": 4,
 "nbformat_minor": 2
}
